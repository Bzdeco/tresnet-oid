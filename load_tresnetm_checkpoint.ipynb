{
 "cells": [
  {
   "cell_type": "code",
   "execution_count": 1,
   "outputs": [],
   "source": [
    "%load_ext autoreload\n",
    "%autoreload 2"
   ],
   "metadata": {
    "collapsed": false,
    "ExecuteTime": {
     "end_time": "2024-04-12T09:21:09.402639Z",
     "start_time": "2024-04-12T09:21:09.381343Z"
    }
   }
  },
  {
   "cell_type": "code",
   "execution_count": 2,
   "metadata": {
    "collapsed": true,
    "ExecuteTime": {
     "end_time": "2024-04-12T09:13:13.509078Z",
     "start_time": "2024-04-12T09:13:08.907709Z"
    }
   },
   "outputs": [],
   "source": [
    "from pathlib import Path\n",
    "from src.models.tresnet.tresnet import TResNet\n",
    "import torch\n",
    "\n",
    "model_path = Path(\"checkpoints/mtresnet_opim_86.72.pth\")\n",
    "state = torch.load(model_path, map_location=\"cpu\")\n",
    "num_classes = state[\"num_classes\"]\n",
    "print(f\"Num classes: {num_classes}\")"
   ]
  },
  {
   "cell_type": "code",
   "execution_count": 4,
   "outputs": [
    {
     "ename": "AssertionError",
     "evalue": "Torch not compiled with CUDA enabled",
     "output_type": "error",
     "traceback": [
      "\u001B[0;31m---------------------------------------------------------------------------\u001B[0m",
      "\u001B[0;31mAssertionError\u001B[0m                            Traceback (most recent call last)",
      "Cell \u001B[0;32mIn [4], line 2\u001B[0m\n\u001B[1;32m      1\u001B[0m \u001B[38;5;66;03m# TResNetM model\u001B[39;00m\n\u001B[0;32m----> 2\u001B[0m model \u001B[38;5;241m=\u001B[39m \u001B[43mTResNet\u001B[49m\u001B[43m(\u001B[49m\n\u001B[1;32m      3\u001B[0m \u001B[43m    \u001B[49m\u001B[43mlayers\u001B[49m\u001B[38;5;241;43m=\u001B[39;49m\u001B[43m[\u001B[49m\u001B[38;5;241;43m3\u001B[39;49m\u001B[43m,\u001B[49m\u001B[43m \u001B[49m\u001B[38;5;241;43m4\u001B[39;49m\u001B[43m,\u001B[49m\u001B[43m \u001B[49m\u001B[38;5;241;43m11\u001B[39;49m\u001B[43m,\u001B[49m\u001B[43m \u001B[49m\u001B[38;5;241;43m3\u001B[39;49m\u001B[43m]\u001B[49m\u001B[43m,\u001B[49m\n\u001B[1;32m      4\u001B[0m \u001B[43m    \u001B[49m\u001B[43mnum_classes\u001B[49m\u001B[38;5;241;43m=\u001B[39;49m\u001B[43mnum_classes\u001B[49m\u001B[43m,\u001B[49m\n\u001B[1;32m      5\u001B[0m \u001B[43m    \u001B[49m\u001B[43min_chans\u001B[49m\u001B[38;5;241;43m=\u001B[39;49m\u001B[38;5;241;43m3\u001B[39;49m\u001B[43m,\u001B[49m\n\u001B[1;32m      6\u001B[0m \u001B[43m    \u001B[49m\u001B[43mdo_bottleneck_head\u001B[49m\u001B[38;5;241;43m=\u001B[39;49m\u001B[38;5;28;43;01mTrue\u001B[39;49;00m\n\u001B[1;32m      7\u001B[0m \u001B[43m)\u001B[49m\n\u001B[1;32m      8\u001B[0m model\u001B[38;5;241m.\u001B[39mload_state_dict(state[\u001B[38;5;124m\"\u001B[39m\u001B[38;5;124mmodel\u001B[39m\u001B[38;5;124m\"\u001B[39m], strict\u001B[38;5;241m=\u001B[39m\u001B[38;5;28;01mTrue\u001B[39;00m)\n\u001B[1;32m      9\u001B[0m model\u001B[38;5;241m.\u001B[39meval()\n",
      "File \u001B[0;32m~/Documents/Code/PartialLabelingCSL/src/models/tresnet/tresnet.py:142\u001B[0m, in \u001B[0;36mTResNet.__init__\u001B[0;34m(self, layers, in_chans, num_classes, width_factor, do_bottleneck_head, bottleneck_features)\u001B[0m\n\u001B[1;32m    139\u001B[0m conv1 \u001B[38;5;241m=\u001B[39m conv2d_ABN(in_chans \u001B[38;5;241m*\u001B[39m \u001B[38;5;241m16\u001B[39m, \u001B[38;5;28mself\u001B[39m\u001B[38;5;241m.\u001B[39mplanes, stride\u001B[38;5;241m=\u001B[39m\u001B[38;5;241m1\u001B[39m, kernel_size\u001B[38;5;241m=\u001B[39m\u001B[38;5;241m3\u001B[39m)\n\u001B[1;32m    140\u001B[0m layer1 \u001B[38;5;241m=\u001B[39m \u001B[38;5;28mself\u001B[39m\u001B[38;5;241m.\u001B[39m_make_layer(BasicBlock, \u001B[38;5;28mself\u001B[39m\u001B[38;5;241m.\u001B[39mplanes, layers[\u001B[38;5;241m0\u001B[39m], stride\u001B[38;5;241m=\u001B[39m\u001B[38;5;241m1\u001B[39m, use_se\u001B[38;5;241m=\u001B[39m\u001B[38;5;28;01mTrue\u001B[39;00m,\n\u001B[1;32m    141\u001B[0m                           anti_alias_layer\u001B[38;5;241m=\u001B[39manti_alias_layer)  \u001B[38;5;66;03m# 56x56\u001B[39;00m\n\u001B[0;32m--> 142\u001B[0m layer2 \u001B[38;5;241m=\u001B[39m \u001B[38;5;28;43mself\u001B[39;49m\u001B[38;5;241;43m.\u001B[39;49m\u001B[43m_make_layer\u001B[49m\u001B[43m(\u001B[49m\u001B[43mBasicBlock\u001B[49m\u001B[43m,\u001B[49m\u001B[43m \u001B[49m\u001B[38;5;28;43mself\u001B[39;49m\u001B[38;5;241;43m.\u001B[39;49m\u001B[43mplanes\u001B[49m\u001B[43m \u001B[49m\u001B[38;5;241;43m*\u001B[39;49m\u001B[43m \u001B[49m\u001B[38;5;241;43m2\u001B[39;49m\u001B[43m,\u001B[49m\u001B[43m \u001B[49m\u001B[43mlayers\u001B[49m\u001B[43m[\u001B[49m\u001B[38;5;241;43m1\u001B[39;49m\u001B[43m]\u001B[49m\u001B[43m,\u001B[49m\u001B[43m \u001B[49m\u001B[43mstride\u001B[49m\u001B[38;5;241;43m=\u001B[39;49m\u001B[38;5;241;43m2\u001B[39;49m\u001B[43m,\u001B[49m\u001B[43m \u001B[49m\u001B[43muse_se\u001B[49m\u001B[38;5;241;43m=\u001B[39;49m\u001B[38;5;28;43;01mTrue\u001B[39;49;00m\u001B[43m,\u001B[49m\n\u001B[1;32m    143\u001B[0m \u001B[43m                          \u001B[49m\u001B[43manti_alias_layer\u001B[49m\u001B[38;5;241;43m=\u001B[39;49m\u001B[43manti_alias_layer\u001B[49m\u001B[43m)\u001B[49m  \u001B[38;5;66;03m# 28x28\u001B[39;00m\n\u001B[1;32m    144\u001B[0m layer3 \u001B[38;5;241m=\u001B[39m \u001B[38;5;28mself\u001B[39m\u001B[38;5;241m.\u001B[39m_make_layer(Bottleneck, \u001B[38;5;28mself\u001B[39m\u001B[38;5;241m.\u001B[39mplanes \u001B[38;5;241m*\u001B[39m \u001B[38;5;241m4\u001B[39m, layers[\u001B[38;5;241m2\u001B[39m], stride\u001B[38;5;241m=\u001B[39m\u001B[38;5;241m2\u001B[39m, use_se\u001B[38;5;241m=\u001B[39m\u001B[38;5;28;01mTrue\u001B[39;00m,\n\u001B[1;32m    145\u001B[0m                           anti_alias_layer\u001B[38;5;241m=\u001B[39manti_alias_layer)  \u001B[38;5;66;03m# 14x14\u001B[39;00m\n\u001B[1;32m    146\u001B[0m layer4 \u001B[38;5;241m=\u001B[39m \u001B[38;5;28mself\u001B[39m\u001B[38;5;241m.\u001B[39m_make_layer(Bottleneck, \u001B[38;5;28mself\u001B[39m\u001B[38;5;241m.\u001B[39mplanes \u001B[38;5;241m*\u001B[39m \u001B[38;5;241m8\u001B[39m, layers[\u001B[38;5;241m3\u001B[39m], stride\u001B[38;5;241m=\u001B[39m\u001B[38;5;241m2\u001B[39m, use_se\u001B[38;5;241m=\u001B[39m\u001B[38;5;28;01mFalse\u001B[39;00m,\n\u001B[1;32m    147\u001B[0m                           anti_alias_layer\u001B[38;5;241m=\u001B[39manti_alias_layer)  \u001B[38;5;66;03m# 7x7\u001B[39;00m\n",
      "File \u001B[0;32m~/Documents/Code/PartialLabelingCSL/src/models/tresnet/tresnet.py:198\u001B[0m, in \u001B[0;36mTResNet._make_layer\u001B[0;34m(self, block, planes, blocks, stride, use_se, anti_alias_layer)\u001B[0m\n\u001B[1;32m    195\u001B[0m     downsample \u001B[38;5;241m=\u001B[39m nn\u001B[38;5;241m.\u001B[39mSequential(\u001B[38;5;241m*\u001B[39mlayers)\n\u001B[1;32m    197\u001B[0m layers \u001B[38;5;241m=\u001B[39m []\n\u001B[0;32m--> 198\u001B[0m layers\u001B[38;5;241m.\u001B[39mappend(\u001B[43mblock\u001B[49m\u001B[43m(\u001B[49m\u001B[38;5;28;43mself\u001B[39;49m\u001B[38;5;241;43m.\u001B[39;49m\u001B[43minplanes\u001B[49m\u001B[43m,\u001B[49m\u001B[43m \u001B[49m\u001B[43mplanes\u001B[49m\u001B[43m,\u001B[49m\u001B[43m \u001B[49m\u001B[43mstride\u001B[49m\u001B[43m,\u001B[49m\u001B[43m \u001B[49m\u001B[43mdownsample\u001B[49m\u001B[43m,\u001B[49m\u001B[43m \u001B[49m\u001B[43muse_se\u001B[49m\u001B[38;5;241;43m=\u001B[39;49m\u001B[43muse_se\u001B[49m\u001B[43m,\u001B[49m\n\u001B[1;32m    199\u001B[0m \u001B[43m                    \u001B[49m\u001B[43manti_alias_layer\u001B[49m\u001B[38;5;241;43m=\u001B[39;49m\u001B[43manti_alias_layer\u001B[49m\u001B[43m)\u001B[49m)\n\u001B[1;32m    200\u001B[0m \u001B[38;5;28mself\u001B[39m\u001B[38;5;241m.\u001B[39minplanes \u001B[38;5;241m=\u001B[39m planes \u001B[38;5;241m*\u001B[39m block\u001B[38;5;241m.\u001B[39mexpansion\n\u001B[1;32m    201\u001B[0m \u001B[38;5;28;01mfor\u001B[39;00m i \u001B[38;5;129;01min\u001B[39;00m \u001B[38;5;28mrange\u001B[39m(\u001B[38;5;241m1\u001B[39m, blocks): layers\u001B[38;5;241m.\u001B[39mappend(\n\u001B[1;32m    202\u001B[0m     block(\u001B[38;5;28mself\u001B[39m\u001B[38;5;241m.\u001B[39minplanes, planes, use_se\u001B[38;5;241m=\u001B[39muse_se, anti_alias_layer\u001B[38;5;241m=\u001B[39manti_alias_layer))\n",
      "File \u001B[0;32m~/Documents/Code/PartialLabelingCSL/src/models/tresnet/tresnet.py:52\u001B[0m, in \u001B[0;36mBasicBlock.__init__\u001B[0;34m(self, inplanes, planes, stride, downsample, use_se, anti_alias_layer)\u001B[0m\n\u001B[1;32m     49\u001B[0m         \u001B[38;5;28mself\u001B[39m\u001B[38;5;241m.\u001B[39mconv1 \u001B[38;5;241m=\u001B[39m conv2d_ABN(inplanes, planes, stride\u001B[38;5;241m=\u001B[39m\u001B[38;5;241m2\u001B[39m, activation_param\u001B[38;5;241m=\u001B[39m\u001B[38;5;241m1e-3\u001B[39m)\n\u001B[1;32m     50\u001B[0m     \u001B[38;5;28;01melse\u001B[39;00m:\n\u001B[1;32m     51\u001B[0m         \u001B[38;5;28mself\u001B[39m\u001B[38;5;241m.\u001B[39mconv1 \u001B[38;5;241m=\u001B[39m nn\u001B[38;5;241m.\u001B[39mSequential(conv2d_ABN(inplanes, planes, stride\u001B[38;5;241m=\u001B[39m\u001B[38;5;241m1\u001B[39m, activation_param\u001B[38;5;241m=\u001B[39m\u001B[38;5;241m1e-3\u001B[39m),\n\u001B[0;32m---> 52\u001B[0m                                    \u001B[43manti_alias_layer\u001B[49m\u001B[43m(\u001B[49m\u001B[43mchannels\u001B[49m\u001B[38;5;241;43m=\u001B[39;49m\u001B[43mplanes\u001B[49m\u001B[43m,\u001B[49m\u001B[43m \u001B[49m\u001B[43mfilt_size\u001B[49m\u001B[38;5;241;43m=\u001B[39;49m\u001B[38;5;241;43m3\u001B[39;49m\u001B[43m,\u001B[49m\u001B[43m \u001B[49m\u001B[43mstride\u001B[49m\u001B[38;5;241;43m=\u001B[39;49m\u001B[38;5;241;43m2\u001B[39;49m\u001B[43m)\u001B[49m)\n\u001B[1;32m     54\u001B[0m \u001B[38;5;28mself\u001B[39m\u001B[38;5;241m.\u001B[39mconv2 \u001B[38;5;241m=\u001B[39m conv2d_ABN(planes, planes, stride\u001B[38;5;241m=\u001B[39m\u001B[38;5;241m1\u001B[39m, activation\u001B[38;5;241m=\u001B[39m\u001B[38;5;124m\"\u001B[39m\u001B[38;5;124midentity\u001B[39m\u001B[38;5;124m\"\u001B[39m)\n\u001B[1;32m     55\u001B[0m \u001B[38;5;28mself\u001B[39m\u001B[38;5;241m.\u001B[39mrelu \u001B[38;5;241m=\u001B[39m nn\u001B[38;5;241m.\u001B[39mReLU(inplace\u001B[38;5;241m=\u001B[39m\u001B[38;5;28;01mTrue\u001B[39;00m)\n",
      "File \u001B[0;32m~/Documents/Code/PartialLabelingCSL/src/models/tresnet/layers/anti_aliasing.py:13\u001B[0m, in \u001B[0;36mAntiAliasDownsampleLayer.__init__\u001B[0;34m(self, remove_model_jit, filt_size, stride, channels)\u001B[0m\n\u001B[1;32m     11\u001B[0m \u001B[38;5;28msuper\u001B[39m(AntiAliasDownsampleLayer, \u001B[38;5;28mself\u001B[39m)\u001B[38;5;241m.\u001B[39m\u001B[38;5;21m__init__\u001B[39m()\n\u001B[1;32m     12\u001B[0m \u001B[38;5;28;01mif\u001B[39;00m \u001B[38;5;129;01mnot\u001B[39;00m remove_model_jit:\n\u001B[0;32m---> 13\u001B[0m     \u001B[38;5;28mself\u001B[39m\u001B[38;5;241m.\u001B[39mop \u001B[38;5;241m=\u001B[39m \u001B[43mDownsampleJIT\u001B[49m\u001B[43m(\u001B[49m\u001B[43mfilt_size\u001B[49m\u001B[43m,\u001B[49m\u001B[43m \u001B[49m\u001B[43mstride\u001B[49m\u001B[43m,\u001B[49m\u001B[43m \u001B[49m\u001B[43mchannels\u001B[49m\u001B[43m)\u001B[49m\n\u001B[1;32m     14\u001B[0m \u001B[38;5;28;01melse\u001B[39;00m:\n\u001B[1;32m     15\u001B[0m     \u001B[38;5;28mself\u001B[39m\u001B[38;5;241m.\u001B[39mop \u001B[38;5;241m=\u001B[39m Downsample(filt_size, stride, channels)\n",
      "File \u001B[0;32m~/Documents/Code/PartialLabelingCSL/src/models/tresnet/layers/anti_aliasing.py:34\u001B[0m, in \u001B[0;36mDownsampleJIT.__init__\u001B[0;34m(self, filt_size, stride, channels)\u001B[0m\n\u001B[1;32m     32\u001B[0m filt \u001B[38;5;241m=\u001B[39m (a[:, \u001B[38;5;28;01mNone\u001B[39;00m] \u001B[38;5;241m*\u001B[39m a[\u001B[38;5;28;01mNone\u001B[39;00m, :])\u001B[38;5;241m.\u001B[39mclone()\u001B[38;5;241m.\u001B[39mdetach()\n\u001B[1;32m     33\u001B[0m filt \u001B[38;5;241m=\u001B[39m filt \u001B[38;5;241m/\u001B[39m torch\u001B[38;5;241m.\u001B[39msum(filt)\n\u001B[0;32m---> 34\u001B[0m \u001B[38;5;28mself\u001B[39m\u001B[38;5;241m.\u001B[39mfilt \u001B[38;5;241m=\u001B[39m \u001B[43mfilt\u001B[49m\u001B[43m[\u001B[49m\u001B[38;5;28;43;01mNone\u001B[39;49;00m\u001B[43m,\u001B[49m\u001B[43m \u001B[49m\u001B[38;5;28;43;01mNone\u001B[39;49;00m\u001B[43m,\u001B[49m\u001B[43m \u001B[49m\u001B[43m:\u001B[49m\u001B[43m,\u001B[49m\u001B[43m \u001B[49m\u001B[43m:\u001B[49m\u001B[43m]\u001B[49m\u001B[38;5;241;43m.\u001B[39;49m\u001B[43mrepeat\u001B[49m\u001B[43m(\u001B[49m\u001B[43m(\u001B[49m\u001B[38;5;28;43mself\u001B[39;49m\u001B[38;5;241;43m.\u001B[39;49m\u001B[43mchannels\u001B[49m\u001B[43m,\u001B[49m\u001B[43m \u001B[49m\u001B[38;5;241;43m1\u001B[39;49m\u001B[43m,\u001B[49m\u001B[43m \u001B[49m\u001B[38;5;241;43m1\u001B[39;49m\u001B[43m,\u001B[49m\u001B[43m \u001B[49m\u001B[38;5;241;43m1\u001B[39;49m\u001B[43m)\u001B[49m\u001B[43m)\u001B[49m\u001B[38;5;241;43m.\u001B[39;49m\u001B[43mcuda\u001B[49m\u001B[43m(\u001B[49m\u001B[43m)\u001B[49m\u001B[38;5;241m.\u001B[39mhalf()\n",
      "File \u001B[0;32m~/opt/anaconda3/envs/dl/lib/python3.8/site-packages/torch/cuda/__init__.py:293\u001B[0m, in \u001B[0;36m_lazy_init\u001B[0;34m()\u001B[0m\n\u001B[1;32m    288\u001B[0m     \u001B[38;5;28;01mraise\u001B[39;00m \u001B[38;5;167;01mRuntimeError\u001B[39;00m(\n\u001B[1;32m    289\u001B[0m         \u001B[38;5;124m\"\u001B[39m\u001B[38;5;124mCannot re-initialize CUDA in forked subprocess. To use CUDA with \u001B[39m\u001B[38;5;124m\"\u001B[39m\n\u001B[1;32m    290\u001B[0m         \u001B[38;5;124m\"\u001B[39m\u001B[38;5;124mmultiprocessing, you must use the \u001B[39m\u001B[38;5;124m'\u001B[39m\u001B[38;5;124mspawn\u001B[39m\u001B[38;5;124m'\u001B[39m\u001B[38;5;124m start method\u001B[39m\u001B[38;5;124m\"\u001B[39m\n\u001B[1;32m    291\u001B[0m     )\n\u001B[1;32m    292\u001B[0m \u001B[38;5;28;01mif\u001B[39;00m \u001B[38;5;129;01mnot\u001B[39;00m \u001B[38;5;28mhasattr\u001B[39m(torch\u001B[38;5;241m.\u001B[39m_C, \u001B[38;5;124m\"\u001B[39m\u001B[38;5;124m_cuda_getDeviceCount\u001B[39m\u001B[38;5;124m\"\u001B[39m):\n\u001B[0;32m--> 293\u001B[0m     \u001B[38;5;28;01mraise\u001B[39;00m \u001B[38;5;167;01mAssertionError\u001B[39;00m(\u001B[38;5;124m\"\u001B[39m\u001B[38;5;124mTorch not compiled with CUDA enabled\u001B[39m\u001B[38;5;124m\"\u001B[39m)\n\u001B[1;32m    294\u001B[0m \u001B[38;5;28;01mif\u001B[39;00m _cudart \u001B[38;5;129;01mis\u001B[39;00m \u001B[38;5;28;01mNone\u001B[39;00m:\n\u001B[1;32m    295\u001B[0m     \u001B[38;5;28;01mraise\u001B[39;00m \u001B[38;5;167;01mAssertionError\u001B[39;00m(\n\u001B[1;32m    296\u001B[0m         \u001B[38;5;124m\"\u001B[39m\u001B[38;5;124mlibcudart functions unavailable. It looks like you have a broken build?\u001B[39m\u001B[38;5;124m\"\u001B[39m\n\u001B[1;32m    297\u001B[0m     )\n",
      "\u001B[0;31mAssertionError\u001B[0m: Torch not compiled with CUDA enabled"
     ]
    }
   ],
   "source": [
    "# TResNetM model\n",
    "model = TResNet(\n",
    "    layers=[3, 4, 11, 3],\n",
    "    num_classes=num_classes,\n",
    "    in_chans=3,\n",
    "    do_bottleneck_head=True\n",
    ")\n",
    "model.load_state_dict(state[\"model\"], strict=True)\n",
    "model.eval()"
   ],
   "metadata": {
    "collapsed": false,
    "ExecuteTime": {
     "end_time": "2024-04-12T09:13:37.251253Z",
     "start_time": "2024-04-12T09:13:36.704223Z"
    }
   }
  }
 ],
 "metadata": {
  "kernelspec": {
   "display_name": "Python 3",
   "language": "python",
   "name": "python3"
  },
  "language_info": {
   "codemirror_mode": {
    "name": "ipython",
    "version": 2
   },
   "file_extension": ".py",
   "mimetype": "text/x-python",
   "name": "python",
   "nbconvert_exporter": "python",
   "pygments_lexer": "ipython2",
   "version": "2.7.6"
  }
 },
 "nbformat": 4,
 "nbformat_minor": 0
}
