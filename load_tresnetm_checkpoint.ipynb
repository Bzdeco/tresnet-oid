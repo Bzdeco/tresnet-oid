{
 "cells": [
  {
   "cell_type": "code",
   "execution_count": 37,
   "metadata": {
    "ExecuteTime": {
     "end_time": "2024-04-12T09:21:09.402639Z",
     "start_time": "2024-04-12T09:21:09.381343Z"
    },
    "collapsed": false,
    "jupyter": {
     "outputs_hidden": false
    }
   },
   "outputs": [
    {
     "name": "stdout",
     "output_type": "stream",
     "text": [
      "The autoreload extension is already loaded. To reload it, use:\n",
      "  %reload_ext autoreload\n"
     ]
    }
   ],
   "source": [
    "%load_ext autoreload\n",
    "%autoreload 2"
   ]
  },
  {
   "cell_type": "code",
   "execution_count": 38,
   "metadata": {},
   "outputs": [
    {
     "name": "stdout",
     "output_type": "stream",
     "text": [
      "Defaulting to user installation because normal site-packages is not writeable\n",
      "Requirement already satisfied: inplace-abn in /home/gwizdala/.local/lib/python3.8/site-packages (1.1.0)\n"
     ]
    }
   ],
   "source": [
    "# Needs to be installed in an environment with CUDA available\n",
    "!pip install inplace-abn\n",
    "# Restart notebook after installation"
   ]
  },
  {
   "cell_type": "code",
   "execution_count": 39,
   "metadata": {
    "ExecuteTime": {
     "end_time": "2024-04-12T09:13:13.509078Z",
     "start_time": "2024-04-12T09:13:08.907709Z"
    }
   },
   "outputs": [
    {
     "name": "stdout",
     "output_type": "stream",
     "text": [
      "Num classes: 9605\n"
     ]
    }
   ],
   "source": [
    "from pathlib import Path\n",
    "from src.models.tresnet.tresnet import TResNet\n",
    "import torch"
   ]
  },
  {
   "cell_type": "code",
   "execution_count": 48,
   "metadata": {},
   "outputs": [
    {
     "data": {
      "text/plain": [
       "Bottleneck(\n",
       "  (conv1): Sequential(\n",
       "    (0): Conv2d(1024, 512, kernel_size=(1, 1), stride=(1, 1), bias=False)\n",
       "    (1): InPlaceABN(512, eps=1e-05, momentum=0.1, affine=True, activation=leaky_relu[0.001])\n",
       "  )\n",
       "  (conv2): Sequential(\n",
       "    (0): Sequential(\n",
       "      (0): Conv2d(512, 512, kernel_size=(3, 3), stride=(1, 1), padding=(1, 1), bias=False)\n",
       "      (1): InPlaceABN(512, eps=1e-05, momentum=0.1, affine=True, activation=leaky_relu[0.001])\n",
       "    )\n",
       "    (1): AntiAliasDownsampleLayer()\n",
       "  )\n",
       "  (conv3): Sequential(\n",
       "    (0): Conv2d(512, 2048, kernel_size=(1, 1), stride=(1, 1), bias=False)\n",
       "    (1): InPlaceABN(2048, eps=1e-05, momentum=0.1, affine=True, activation=identity)\n",
       "  )\n",
       "  (relu): ReLU(inplace=True)\n",
       "  (downsample): Sequential(\n",
       "    (0): AvgPool2d(kernel_size=2, stride=2, padding=0)\n",
       "    (1): Sequential(\n",
       "      (0): Conv2d(1024, 2048, kernel_size=(1, 1), stride=(1, 1), bias=False)\n",
       "      (1): InPlaceABN(2048, eps=1e-05, momentum=0.1, affine=True, activation=identity)\n",
       "    )\n",
       "  )\n",
       ")"
      ]
     },
     "execution_count": 48,
     "metadata": {},
     "output_type": "execute_result"
    }
   ],
   "source": [
    "model[5]"
   ]
  },
  {
   "cell_type": "code",
   "execution_count": 49,
   "metadata": {
    "ExecuteTime": {
     "end_time": "2024-04-12T09:13:37.251253Z",
     "start_time": "2024-04-12T09:13:36.704223Z"
    },
    "collapsed": false,
    "jupyter": {
     "outputs_hidden": false
    }
   },
   "outputs": [],
   "source": [
    "checkpoint_path = Path(\"checkpoints/mtresnet_opim_86.72.pth\")\n",
    "\n",
    "def build_tresnet_m_model(pretrained: bool = True, truncated: bool = False):\n",
    "    device = torch.device(\"cuda\" if torch.cuda.is_available() else \"cpu\")\n",
    "\n",
    "    if pretrained:\n",
    "        state = torch.load(checkpoint_path, map_location=device)\n",
    "        num_classes = state[\"num_classes\"]\n",
    "    else:\n",
    "        num_classes = 1\n",
    "    \n",
    "    model = TResNet(\n",
    "        layers=[3, 4, 11, 3],\n",
    "        num_classes=num_classes,\n",
    "        in_chans=3,\n",
    "        do_bottleneck_head=True\n",
    "    )\n",
    "    if pretrained:\n",
    "        model.load_state_dict(state[\"model\"], strict=True)\n",
    "\n",
    "    base = nn.Sequential(\n",
    "        model.body.SpaceToDepth,\n",
    "        model.body.conv1,\n",
    "        model.body.layer1,\n",
    "        model.body.layer2,\n",
    "        model.body.layer3\n",
    "    )\n",
    "    if truncated:\n",
    "        return nn.Sequential(base, model.body.layer4[0].conv1)\n",
    "    else:\n",
    "        return nn.Sequential(base, model.body.layer4[0])"
   ]
  },
  {
   "cell_type": "code",
   "execution_count": 52,
   "metadata": {},
   "outputs": [
    {
     "data": {
      "text/plain": [
       "==============================================================================================================\n",
       "Layer (type:depth-idx)                                       Output Shape              Param #\n",
       "==============================================================================================================\n",
       "Sequential                                                   [1, 512, 64, 64]          --\n",
       "├─Sequential: 1-1                                            [1, 1024, 64, 64]         --\n",
       "│    └─SpaceToDepthModule: 2-1                               [1, 48, 256, 256]         --\n",
       "│    └─Sequential: 2-2                                       [1, 64, 256, 256]         --\n",
       "│    │    └─Conv2d: 3-1                                      [1, 64, 256, 256]         27,648\n",
       "│    │    └─InPlaceABN: 3-2                                  [1, 64, 256, 256]         128\n",
       "│    └─Sequential: 2-3                                       [1, 64, 256, 256]         --\n",
       "│    │    └─BasicBlock: 3-3                                  [1, 64, 256, 256]         82,304\n",
       "│    │    └─BasicBlock: 3-4                                  [1, 64, 256, 256]         82,304\n",
       "│    │    └─BasicBlock: 3-5                                  [1, 64, 256, 256]         82,304\n",
       "│    └─Sequential: 2-4                                       [1, 128, 128, 128]        --\n",
       "│    │    └─BasicBlock: 3-6                                  [1, 128, 128, 128]        246,720\n",
       "│    │    └─BasicBlock: 3-7                                  [1, 128, 128, 128]        312,000\n",
       "│    │    └─BasicBlock: 3-8                                  [1, 128, 128, 128]        312,000\n",
       "│    │    └─BasicBlock: 3-9                                  [1, 128, 128, 128]        312,000\n",
       "│    └─Sequential: 2-5                                       [1, 1024, 64, 64]         --\n",
       "│    │    └─Bottleneck: 3-10                                 [1, 1024, 64, 64]         1,086,848\n",
       "│    │    └─Bottleneck: 3-11                                 [1, 1024, 64, 64]         1,183,104\n",
       "│    │    └─Bottleneck: 3-12                                 [1, 1024, 64, 64]         1,183,104\n",
       "│    │    └─Bottleneck: 3-13                                 [1, 1024, 64, 64]         1,183,104\n",
       "│    │    └─Bottleneck: 3-14                                 [1, 1024, 64, 64]         1,183,104\n",
       "│    │    └─Bottleneck: 3-15                                 [1, 1024, 64, 64]         1,183,104\n",
       "│    │    └─Bottleneck: 3-16                                 [1, 1024, 64, 64]         1,183,104\n",
       "│    │    └─Bottleneck: 3-17                                 [1, 1024, 64, 64]         1,183,104\n",
       "│    │    └─Bottleneck: 3-18                                 [1, 1024, 64, 64]         1,183,104\n",
       "│    │    └─Bottleneck: 3-19                                 [1, 1024, 64, 64]         1,183,104\n",
       "│    │    └─Bottleneck: 3-20                                 [1, 1024, 64, 64]         1,183,104\n",
       "├─Sequential: 1-2                                            [1, 512, 64, 64]          --\n",
       "│    └─Conv2d: 2-6                                           [1, 512, 64, 64]          524,288\n",
       "│    └─InPlaceABN: 2-7                                       [1, 512, 64, 64]          1,024\n",
       "==============================================================================================================\n",
       "Total params: 14,900,608\n",
       "Trainable params: 14,900,608\n",
       "Non-trainable params: 0\n",
       "Total mult-adds (G): 97.78\n",
       "==============================================================================================================\n",
       "Input size (MB): 12.58\n",
       "Forward/backward pass size (MB): 2181.08\n",
       "Params size (MB): 59.60\n",
       "Estimated Total Size (MB): 2253.27\n",
       "=============================================================================================================="
      ]
     },
     "execution_count": 52,
     "metadata": {},
     "output_type": "execute_result"
    }
   ],
   "source": [
    "import torch.nn as nn\n",
    "from torchinfo import summary\n",
    "\n",
    "model = build_tresnet_m_model(pretrained=True, truncated=True)\n",
    "summary(model, input_size=(1, 3, 1024, 1024), depth=3)"
   ]
  },
  {
   "cell_type": "code",
   "execution_count": null,
   "metadata": {},
   "outputs": [],
   "source": []
  }
 ],
 "metadata": {
  "kernelspec": {
   "display_name": "Python 3 (ipykernel)",
   "language": "python",
   "name": "python3"
  },
  "language_info": {
   "codemirror_mode": {
    "name": "ipython",
    "version": 3
   },
   "file_extension": ".py",
   "mimetype": "text/x-python",
   "name": "python",
   "nbconvert_exporter": "python",
   "pygments_lexer": "ipython3",
   "version": "3.8.10"
  }
 },
 "nbformat": 4,
 "nbformat_minor": 4
}
